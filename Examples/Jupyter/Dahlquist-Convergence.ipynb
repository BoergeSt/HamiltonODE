{
 "cells": [
  {
   "cell_type": "code",
   "execution_count": 1,
   "metadata": {},
   "outputs": [
    {
     "name": "stdout",
     "output_type": "stream",
     "text": [
      "Finished loading HamiltonSystem\n",
      "Finished loading HamiltonSteps\n",
      "Finished loading HamiltonIntegrator\n",
      "Finished loading HamiltonPlot\n",
      "============================\n",
      "Finished loading HamiltonODE\n"
     ]
    }
   ],
   "source": [
    "include(\"../../HamiltonODE.jt\")\n",
    "using Plots\n",
    "pyplot();\n",
    "using LaTeXStrings"
   ]
  },
  {
   "cell_type": "code",
   "execution_count": 2,
   "metadata": {},
   "outputs": [],
   "source": [
    "d = 2\n",
    "m = (1)\n",
    "q0 = [1.,0.]\n",
    "p0 = [0.,1.]\n",
    "\n",
    "F(q)= -q\n",
    "U(q)= q⋅q\n",
    "sol(q)=[cos(q),sin(q)]\n",
    "\n",
    "HS = HamiltonSystem(d,m,q0,p0,F,U,sol);"
   ]
  },
  {
   "cell_type": "code",
   "execution_count": 3,
   "metadata": {},
   "outputs": [],
   "source": [
    "T=2*2*pi\n",
    "dts = [1*2.0^-i for i in 1:12];\n",
    "\n",
    "ConvArgs = [:xaxis => :log, :yaxis => :log, :style => [:dash :solid]];"
   ]
  },
  {
   "cell_type": "code",
   "execution_count": null,
   "metadata": {},
   "outputs": [],
   "source": [
    "Is = [Integrator(euler_step,dt,T) for dt in dts];\n",
    "ts,Qs,Ps = integrate(HS,Is);\n",
    "names = getNames(Is)\n",
    "EulerEnergyErrors = getEnergyErrors(HS,Qs,Ps)\n",
    "EulerMaximumErrors = getMaximumErrors(HS,ts,Qs)\n",
    "p1 = plot(ts,EulerMaximumErrors,label=hcat(names...),title=L\"Explicit Euler $||\\cdot||_\\infty$\")\n",
    "p2 = plot(1 ./ dts,[6*dts,[EulerMaximumErrors[i][end] for i in 1:length(dts)]],\n",
    "    label=[\"dt^1\" \"Explicit Euler\"], title=L\"Convergence Rate $||\\cdot||_\\infty$\";ConvArgs...)\n",
    "p3 = plot(ts,EulerEnergyErrors,label=\"\",title=L\"Explicit Euler $||\\cdot||_H$\")\n",
    "p4 = plot(1 ./ dts,[19*dts,[EulerEnergyErrors[i][end] for i in 1:length(dts)]],\n",
    "    label=[\"dt^1\" \"Explicit Euler\"], title=L\"Convergence Rate $||\\cdot||_H$\";ConvArgs...)\n",
    "plot(p1,p2,p3,p4,size=(1000,600))"
   ]
  },
  {
   "cell_type": "code",
   "execution_count": null,
   "metadata": {},
   "outputs": [],
   "source": [
    "Is = [Integrator(i_euler_step,dt,T) for dt in dts];\n",
    "ts,Qs,Ps = integrate(HS,Is);\n",
    "names = getNames(Is)\n",
    "IEulerEnergyErrors = getEnergyErrors(HS,Qs,Ps)\n",
    "IEulerMaximumErrors = getMaximumErrors(HS,ts,Qs);\n",
    "p1 = plot(ts,IEulerMaximumErrors,label=hcat(names...),title=L\"Implicit Euler $||\\cdot||_\\infty$\")\n",
    "p2 = plot(1 ./ dts,[6.5*dts,[IEulerMaximumErrors[i][end] for i in 1:length(dts)]],\n",
    "    label=[\"dt^1\" \"Implicit Euler\"], title=L\"Convergence Rate $||\\cdot||_\\infty$\";ConvArgs...)\n",
    "p3 = plot(ts,IEulerEnergyErrors,label=\"\",title=L\"Implicit Euler $||\\cdot||_H$\")\n",
    "p4 = plot(1 ./ dts,[19*dts, [IEulerEnergyErrors[i][end] for i in 1:length(dts)]],\n",
    "    label=[\"dt^1\" \"Implicit Euler\" ], title=L\"Convergence Rate $||\\cdot||_H$\";ConvArgs...)\n",
    "plot(p1,p2,p3,p4,size=(1000,600))"
   ]
  },
  {
   "cell_type": "code",
   "execution_count": null,
   "metadata": {},
   "outputs": [],
   "source": [
    "Is = [Integrator(theta_step,dt,T,theta=0.5) for dt in dts];\n",
    "ts,Qs,Ps = integrate(HS,Is);\n",
    "names = getNames(Is)\n",
    "TrapezEnergyErrors = getEnergyErrors(HS,Qs,Ps)\n",
    "TrapezMaximumErrors = getMaximumErrors(HS,ts,Qs);\n",
    "p1 = plot(ts,TrapezMaximumErrors,label=hcat(names...),title=L\"Trapezoidal $||\\cdot||_\\infty$\")\n",
    "p2 = plot(1 ./ dts,[2*dts.^2,[TrapezMaximumErrors[i][end] for i in 1:length(dts)]],\n",
    "    label=[\"dt^2\" \"Trapezoidal\"], title=L\"Convergence Rate $||\\cdot||_\\infty$\";ConvArgs...)\n",
    "p3 = plot(ts,TrapezEnergyErrors,label=\"\",title=L\"Trapezoidal $||\\cdot||_H$\")\n",
    "p4 = plot(1 ./ dts,[4*dts.^3, [TrapezEnergyErrors[i][end] for i in 1:length(dts)]],\n",
    "    label=[\"dt^3\" \"Trapezoidal\" ], title=L\"Convergence Rate $||\\cdot||_H$\";ConvArgs...)\n",
    "plot(p1,p2,p3,p4,size=(1000,600))"
   ]
  },
  {
   "cell_type": "code",
   "execution_count": null,
   "metadata": {},
   "outputs": [],
   "source": [
    "Is = [Integrator(verlet_step,dt,T) for dt in dts];\n",
    "ts,Qs,Ps = integrate(HS,Is);\n",
    "names = getNames(Is)\n",
    "VerletEnergyErrors = getEnergyErrors(HS,Qs,Ps)\n",
    "VerletMaximumErrors = getMaximumErrors(HS,ts,Qs);\n",
    "p1 = plot(ts,VerletMaximumErrors,label=hcat(names...),title=L\"Verlet $||\\cdot||_\\infty$\")\n",
    "p2 = plot(1 ./ dts,[0.4*dts.^2,[max(VerletMaximumErrors[i]...) for i in 1:length(dts)]],\n",
    "    label=[\"dt^2\" \"Verlet\"], title=L\"Convergence Rate $||\\cdot||_\\infty$\";ConvArgs...)\n",
    "p3 = plot(ts,VerletEnergyErrors,label=\"\",title=L\"Verlet $||\\cdot||_H$\")\n",
    "p4 = plot(1 ./ dts,[0.1*dts.^2, [max(VerletEnergyErrors[i]...) for i in 1:length(dts)]],\n",
    "    label=[\"dt^2\" \"Verlet\" ], title=L\"Convergence Rate $||\\cdot||_H$\";ConvArgs...)\n",
    "plot(p1,p2,p3,p4,size=(1000,600))"
   ]
  },
  {
   "cell_type": "code",
   "execution_count": null,
   "metadata": {},
   "outputs": [],
   "source": [
    "Is = [Integrator(rk4_step,dt,T) for dt in dts];\n",
    "ts,Qs,Ps = integrate(HS,Is);\n",
    "names = getNames(Is)\n",
    "Rk4EnergyErrors = getEnergyErrors(HS,Qs,Ps)\n",
    "Rk4MaximumErrors = getMaximumErrors(HS,ts,Qs);\n",
    "p1 = plot(ts,Rk4MaximumErrors,label=hcat(names...),title=L\"Rk4 $||\\cdot||_\\infty$\")\n",
    "p2 = plot(1 ./ dts,[0.05*dts.^4,[max(Rk4MaximumErrors[i]...) for i in 1:length(dts)]],\n",
    "    label=[\"dt^4\" \"Rk4\"], title=L\"Convergence Rate $||\\cdot||_\\infty$\";ConvArgs...)\n",
    "p3 = plot(ts,Rk4EnergyErrors,label=\"\",title=L\"Rk4 $||\\cdot||_H$\")\n",
    "p4 = plot(1 ./ dts,[0.1*dts.^5, [max(Rk4EnergyErrors[i]...) for i in 1:length(dts)]],\n",
    "    label=[\"dt^5\" \"Rk4\" ], title=L\"Convergence Rate $||\\cdot||_H$\";ConvArgs...)\n",
    "plot(p1,p2,p3,p4,size=(1000,600))"
   ]
  },
  {
   "cell_type": "code",
   "execution_count": null,
   "metadata": {},
   "outputs": [],
   "source": [
    "Is = [Integrator(projected_step,dt,T) for dt in dts];\n",
    "ts,Qs,Ps = integrate(HS,Is);\n",
    "names = getNames(Is)\n",
    "PRk4EnergyErrors = getEnergyErrors(HS,Qs,Ps)\n",
    "PRk4MaximumErrors = getMaximumErrors(HS,ts,Qs);\n",
    "p1 = plot(ts,PRk4MaximumErrors,label=hcat(names...),title=L\"Projected Rk4 $||\\cdot||_\\infty$\")\n",
    "p2 = plot(1 ./ dts,[0.05*dts.^4,[max(PRk4MaximumErrors[i]...) for i in 1:length(dts)]],\n",
    "    label=[\"dt^4\" \"Projected Rk4\"], title=L\"Convergence Rate $||\\cdot||_\\infty$\";ConvArgs...)\n",
    "p3 = plot(ts,PRk4EnergyErrors,label=\"\",title=L\"Projected Rk4 $||\\cdot||_H$\")\n",
    "p4 = plot(1 ./ dts,[0.1*dts.^5, [max(PRk4EnergyErrors[i]...) for i in 1:length(dts)]],\n",
    "    label=[\"dt^5\" \"Projected Rk4\" ], title=L\"Convergence Rate $||\\cdot||_H$\";ConvArgs...)\n",
    "plot(p1,p2,p3,p4,size=(1000,600))"
   ]
  },
  {
   "cell_type": "code",
   "execution_count": null,
   "metadata": {},
   "outputs": [],
   "source": []
  },
  {
   "cell_type": "code",
   "execution_count": null,
   "metadata": {},
   "outputs": [],
   "source": []
  }
 ],
 "metadata": {
  "kernelspec": {
   "display_name": "Julia 1.1.0",
   "language": "julia",
   "name": "julia-1.1"
  },
  "language_info": {
   "file_extension": ".jl",
   "mimetype": "application/julia",
   "name": "julia",
   "version": "1.1.0"
  }
 },
 "nbformat": 4,
 "nbformat_minor": 2
}
